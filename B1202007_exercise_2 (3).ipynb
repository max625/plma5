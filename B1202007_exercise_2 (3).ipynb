{
  "nbformat": 4,
  "nbformat_minor": 0,
  "metadata": {
    "colab": {
      "provenance": []
    },
    "kernelspec": {
      "name": "python3",
      "display_name": "Python 3"
    },
    "language_info": {
      "name": "python"
    }
  },
  "cells": [
    {
      "cell_type": "code",
      "execution_count": 19,
      "metadata": {
        "colab": {
          "base_uri": "https://localhost:8080/"
        },
        "id": "-JKW2HMtfdvP",
        "outputId": "b07a07ef-f6c7-4a3b-a571-0c5c8eb2c9bb"
      },
      "outputs": [
        {
          "output_type": "stream",
          "name": "stdout",
          "text": [
            "{'姓名': '賴宏瑋', '性別': '男', '作業分數': [100, 100, 90], '學號': 'M1129020'}\n",
            "96.66666666666667\n"
          ]
        }
      ],
      "source": [
        "a = dict(姓名='賴宏瑋', 性別='男', 作業分數=[80,95,100,90])\n",
        "b = a.setdefault('學號', 'M1129020')\n",
        "a['作業分數'][1] = 100\n",
        "del a['作業分數'][0]\n",
        "print(a)\n",
        "b = a.pop('作業分數')\n",
        "c = list(b)\n",
        "print((c[0]+c[1]+c[2])/3)"
      ]
    },
    {
      "cell_type": "code",
      "source": [],
      "metadata": {
        "id": "LuyVcBougEon"
      },
      "execution_count": null,
      "outputs": []
    }
  ]
}